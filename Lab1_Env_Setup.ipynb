{
 "cells": [
  {
   "cell_type": "markdown",
   "metadata": {},
   "source": [
    "<div class='heading'>\n",
    "    <div style='float:left;'><h1>CPSC 4300/6300: Applied Data Science</h1></div>\n",
    "    <img style=\"float: right; padding-right: 10px; width: 65px\" src=\"https://raw.githubusercontent.com/bsethwalker/clemson-cs4300/main/images/clemson_paw.png\"> </div>\n",
    "\n",
    "\n",
    "## Week 1: Environment Setup\n",
    "\n",
    "**Clemson University**<br>\n",
    "**Fall 2021**<br>\n",
    "**Instructor(s):** Nina Hubig <br>\n",
    "**Author(s):** Brandon Walker\n",
    "\n",
    "---"
   ]
  },
  {
   "cell_type": "code",
   "execution_count": 1,
   "metadata": {},
   "outputs": [
    {
     "data": {
      "text/html": [
       "<style>\n",
       "blockquote { background: #AEDE94; }\n",
       "\n",
       "div.heading {\n",
       "margin-bottom: 25px;\n",
       "height: 75px;\n",
       "}\n",
       "\n",
       "h1 { \n",
       "    padding-top: 25px;\n",
       "    padding-bottom: 25px;\n",
       "    text-align: left; \n",
       "    padding-left: 10px;\n",
       "    color: black;\n",
       "}\n",
       "\n",
       "h2 { \n",
       "    padding-top: 10px;\n",
       "    padding-bottom: 10px;\n",
       "    text-align: left; \n",
       "    padding-left: 5px;\n",
       "    background-color: #EEEEEE; \n",
       "    color: black;\n",
       "}\n",
       "\n",
       "div.exercise {\n",
       "    \n",
       "    background: rgba(245, 102, 0, .75);\n",
       "    border-color: #E9967A;\n",
       "    border-left: 5px solid #522D80; \n",
       "    padding: 0.5em;\n",
       "}\n",
       "\n",
       "div.exercise-r {\n",
       "    background-color: #fce8e8;\n",
       "    border-color: #E9967A; \t\n",
       "    border-left: 5px solid #800080; \n",
       "    padding: 0.5em;\n",
       "}\n",
       "\n",
       "span.sub-q {\n",
       "    font-weight: bold;\n",
       "}\n",
       "div.theme {\n",
       "    background-color: #DDDDDD;\n",
       "    border-color: #E9967A; \t\n",
       "    border-left: 5px solid #800080; \n",
       "    padding: 0.5em;\n",
       "    font-size: 18pt;\n",
       "}\n",
       "div.gc { \n",
       "    background-color: #AEDE94;\n",
       "    border-color: #E9967A; \t \n",
       "    border-left: 5px solid #800080; \n",
       "    padding: 0.5em;\n",
       "    font-size: 12pt;\n",
       "}\n",
       "p.q1 { \n",
       "    padding-top: 5px;\n",
       "    padding-bottom: 5px;\n",
       "    text-align: left; \n",
       "    padding-left: 5px;\n",
       "    background-color: #EEEEEE; \n",
       "    color: black;\n",
       "}\n",
       "header {\n",
       "   padding-top: 35px;\n",
       "    padding-bottom: 35px;\n",
       "    text-align: left; \n",
       "    padding-left: 10px;\n",
       "    background-color: #DDDDDD; \n",
       "    color: black;\n",
       "}\n",
       "</style>"
      ],
      "text/plain": [
       "<IPython.core.display.HTML object>"
      ]
     },
     "execution_count": 1,
     "metadata": {},
     "output_type": "execute_result"
    }
   ],
   "source": [
    "\"\"\" RUN THIS CELL TO GET THE RIGHT FORMATTING \"\"\"\n",
    "import requests\n",
    "from IPython.core.display import HTML\n",
    "css_file = 'https://raw.githubusercontent.com/bsethwalker/clemson-cs4300/main/css/cpsc6300.css'\n",
    "styles = requests.get(css_file).text\n",
    "HTML(styles)"
   ]
  },
  {
   "cell_type": "markdown",
   "metadata": {},
   "source": [
    "## Getting and installing Python"
   ]
  },
  {
   "cell_type": "markdown",
   "metadata": {},
   "source": [
    "You will be using Python throughout the course, including many popular 3rd party Python libraries for scientific computing. [Anaconda](https://www.anaconda.com/products/individual) is an easy-to-install bundle of Python and most of these libraries. We **strongly suggest**  that you use Anaconda for this course.\n",
    "\n",
    "For this course, we are using **Python 3**, not **Python 2**.\n",
    "\n",
    "The **Jupyter** notebook runs in the browser. For me, it works best in Google Chrome or Safari. You probably want to use one of these for the course assignments."
   ]
  },
  {
   "cell_type": "markdown",
   "metadata": {},
   "source": [
    "### Installing Anaconda"
   ]
  },
  {
   "cell_type": "markdown",
   "metadata": {},
   "source": [
    "The Anaconda Python distribution is an easily-installable bundle of Python and many of the libraries used throughout this class. Unless you have a good reason not to, we recommend that you use Anaconda."
   ]
  },
  {
   "cell_type": "markdown",
   "metadata": {},
   "source": [
    "### Mac/Linux users"
   ]
  },
  {
   "cell_type": "markdown",
   "metadata": {},
   "source": [
    "1. Download [Anaconda](https://www.anaconda.com/products/individual)\n",
    "1. Follow the instructions on that page to run the installer\n",
    "1. Test out the Juypter notebook: open a Terminal window, and type\n",
    "\n",
    "`jupyter notebook`. \n",
    "\n",
    "Or use the Anaconda Launcher which might have been placed on your desktop. \n",
    "\n",
    "A new browser window should pop up. \n",
    "\n",
    "Click `New Notebook` to create a new notebook file. **Trick**: give this notebook a unique name by clicking on the word \"Untitled\" at the top.\n",
    "\n",
    "You will have to occasionally work in the terminal on mac or linux. Mac users can access it (a terminal app is built into the mac) by typing \"terminal\" in spotlight or through Launchpad.\n",
    "\n",
    "You might also want to choose a specific folder to work in, something like  `cpsc4300` under `Documents`. In this case, open the terminal, and do:\n",
    "\n",
    "`cd Documents/cpsc4300`\n",
    "\n",
    "and then type:\n",
    "\n",
    "`jupyter notebook`"
   ]
  },
  {
   "cell_type": "markdown",
   "metadata": {},
   "source": [
    "### Windows Users"
   ]
  },
  {
   "cell_type": "markdown",
   "metadata": {},
   "source": [
    "1. Download the [appropriate version](https://www.anaconda.com/products/individual) of Anaconda\n",
    "1. Follow the instructions on that page to run the installer. This will typically create a directory at `C:\\Anaconda`\n",
    "1. Test it out: start the Anaconda launcher, which you can find in `C:\\Anaconda` or, in the Start menu. Start the Juypter notebook. A new browser window should open. \n",
    "1. Click `New Notebook`, which should open a new page. **Trick**: give this notebook a unique name, like `my-little-rose`. Use Explorer (usually start menu on windows desktops) to search for this name. In this way, you will know which folder your notebook opens in by default.\n",
    "\n",
    "\n",
    "Windows users should consider installing the program `git-bash`. It gives you a nice terminal to work with.\n",
    "\n",
    "### All Users\n",
    "\n",
    "If you did not add Anaconda to your path, be sure to use the full path to the python and ipython executables, such as `/anaconda/bin/python`.\n",
    "\n",
    "If you already have installed Anaconda at some point in the past, you can easily update to the latest Anaconda version by updating conda, then Anaconda as follows:\n",
    "\n",
    "```\n",
    "conda update conda\n",
    "conda update anaconda\n",
    "```\n"
   ]
  },
  {
   "cell_type": "markdown",
   "metadata": {},
   "source": [
    "## Hello, Jupyter"
   ]
  },
  {
   "cell_type": "markdown",
   "metadata": {},
   "source": [
    "The Jupyter Notebook is a web application that allows you to create interactive documents that contain live code, equations, visualizations and explanatory text.\n",
    "\n",
    "<img src=\"https://raw.githubusercontent.com/bsethwalker/clemson-cs4300/main/images/jupyterdemo.png\"> </div>\n",
    "\n",
    "When Jupyter app loads, you see a dashboard displaying files in the Jupyter home directory (you can reset this)\n",
    "\n",
    "<img src=\"https://raw.githubusercontent.com/bsethwalker/clemson-cs4300/main/images/jupyterhome.png\"> </div>\n",
    "\n",
    "Each notebook consists of blocks of cells. Each cell can display rich text elements (Markdown) or code. Code is executed by a \"computational engine\" called the **kernel** . The output of the code is displayed directly below. \n",
    "\n",
    "<img src=\"https://raw.githubusercontent.com/bsethwalker/clemson-cs4300/main/images/jupyter.png\"> </div>\n",
    "\n",
    "Each cell can be executed independently, but once a block of code is executed, it lives in the memory of the kernel. \n",
    "\n",
    "<img src=\"https://raw.githubusercontent.com/bsethwalker/clemson-cs4300/main/images/cells.png\"> </div>"
   ]
  },
  {
   "cell_type": "markdown",
   "metadata": {},
   "source": [
    "You'll be using them to complete labs and homework. Once you've set up Python, please download this page, and open it with Jupyter by typing\n",
    "\n",
    "```\n",
    "jupyter notebook <name_of_downloaded_file>\n",
    "```"
   ]
  },
  {
   "cell_type": "markdown",
   "metadata": {},
   "source": [
    "As mentioned earlier in the Mac section, you can also open the notebook in any folder by `cd`ing to the folder in the terminal, and typing\n",
    "\n",
    "```\n",
    "jupyter notebook .\n",
    "```"
   ]
  },
  {
   "cell_type": "markdown",
   "metadata": {},
   "source": [
    "in that folder.\n",
    "\n",
    "The anaconda install also probably dropped a launcher on your desktop. You can use the launcher, and select \"jupyter notebook\" from there. In this case you will need to find out which folder you are running in.\n",
    "\n",
    "It loolks like this for me:\n",
    "\n",
    "<img src=\"https://raw.githubusercontent.com/bsethwalker/clemson-cs4300/main/images/jupyter2.png\"> </div>\n",
    "\n",
    "Notice that you can use the user interface to create new folders and text files, and even open new terminals, all of which might come useful to you. To create a new notebook, you can use \"Python 3\" under notebooks. You may not have the other choices available (I have julia for example, which is another language that uses the same notebook interface)."
   ]
  },
  {
   "cell_type": "markdown",
   "metadata": {},
   "source": [
    "For the rest of this setup test, use your local copy of this page, running on jupyter.\n",
    "\n",
    "Notebooks are composed of many \"cells\", which can contain text (like this one), or code (like the one below). Double click on the cell below, and evaluate it by clicking the \"play\" button above, for by hitting shift + enter"
   ]
  },
  {
   "cell_type": "code",
   "execution_count": 2,
   "metadata": {},
   "outputs": [
    {
     "name": "stdout",
     "output_type": "stream",
     "text": [
      "Item is 10\n",
      "Item is 20\n",
      "Item is 30\n",
      "Item is 40\n",
      "Item is 50\n"
     ]
    }
   ],
   "source": [
    "x = [10, 20, 30, 40, 50]\n",
    "for item in x:\n",
    "    print(\"Item is {}\".format(item))"
   ]
  },
  {
   "cell_type": "markdown",
   "metadata": {},
   "source": [
    "You must be careful to make sure you are running the Anaconda version of python, since those operating systems come preinstalled with their own versions of python.\n",
    "\n",
    "This is how you can see the version in the jupyter interface"
   ]
  },
  {
   "cell_type": "code",
   "execution_count": 3,
   "metadata": {},
   "outputs": [
    {
     "name": "stdout",
     "output_type": "stream",
     "text": [
      "3.10.9 | packaged by Anaconda, Inc. | (main, Mar  1 2023, 18:18:15) [MSC v.1916 64 bit (AMD64)]\n"
     ]
    }
   ],
   "source": [
    "import sys\n",
    "print(sys.version)"
   ]
  },
  {
   "cell_type": "markdown",
   "metadata": {},
   "source": [
    "You could also open a terminal and just type\n",
    "\n",
    "`python` \n",
    "\n",
    "or\n",
    "\n",
    "`ipython`\n",
    "\n",
    "there. When the program starts up, you should see \"Anaconda\" printed out, similar to the above. If this is the case, your install went well, and you can quit the python \"interpreter\" by typing Ctrl-D.\n"
   ]
  },
  {
   "cell_type": "markdown",
   "metadata": {},
   "source": [
    "If you've successfully completed the above install, skip to below the troubleshooting section. All of the statements there should run."
   ]
  },
  {
   "cell_type": "markdown",
   "metadata": {},
   "source": [
    "## Troubleshooting"
   ]
  },
  {
   "cell_type": "markdown",
   "metadata": {},
   "source": [
    "**PROBLEM**\n",
    "You are using a Mac or Linux computer. When you start python at the terminal or do `sys.version` in the notebook, you don't see a line like `3.5.3 |Anaconda custom (x86_64)| (default, Mar  6 2017, 12:15:08) `.\n",
    "\n",
    "**Reason**\n",
    "You are most likely running a different version of Python, and need to modify your Path (the list of directories your computer looks through to find programs). \n",
    "\n",
    "**Solution**\n",
    "Find a file like `.bash_profile`, `.bashrc`, or `.profile`. Open the file in a text editor, and add a line at this line at the end: \n",
    "\n",
    "`export PATH=\"$HOME/anaconda/bin:$PATH\"`. \n",
    "\n",
    "Close the file, open a new terminal window, type `source ~/.profile` (or whatever file you just edited). Type \n",
    "\n",
    "`which python`\n",
    "\n",
    "-- you should see a path that points to the anaconda directory. If so, running `python` should load the proper version.\n",
    "\n",
    "If this doesn't work (typing `which python` doesn't point to anaconda), you might be using a different shell. \n",
    "\n",
    "Type `echo $SHELL`. \n",
    "\n",
    "If this isn't `bash`, you need to edit a different startup file (for example, if `echo $SHELL` gives `$csh`, you need to edit your `.cshrc` file. The syntax for this file is slightly different: \n",
    "\n",
    "`set PATH = ($HOME/anaconda/bin $PATH)`\n",
    "\n",
    "---\n",
    "\n",
    "**PROBLEM**\n",
    "You are running the right version of python (see above item), but are unable to import numpy. \n",
    "\n",
    "**Reason**\n",
    "You are probably loading a different copy of numpy that is incompatible with Anaconda.\n",
    "\n",
    "**Solution**\n",
    "See the above item to find your `.bash_profile`, `.profile`, or `.bashrc` file. Open it, and add the line `unset PYTHONPATH` at the end. Close the file, open a new terminal window, type `source ~/.profile` (or whatever file you just edited), and try again.\n",
    "\n",
    "---\n",
    "\n",
    "**PROBLEM**\n",
    "Under Windows, you receive an error message similar to the following: \"'pip' is not recognized as an internal or external command, operable program or batch file.\"\n",
    "\n",
    "**Reason**\n",
    "The correct Anaconda paths might not be present in your PATH variable, or Anaconda might not have installed correctly.\n",
    "\n",
    "**Solution**\n",
    "Ensure the Anaconda directories to your path environment variable (\"\\Anaconda\" and \"\\Anaconda\\Scripts\").  See [this page](http://superuser.com/questions/284342/what-are-path-and-other-environment-variables-and-how-can-i-set-or-use-them) for details.\n",
    "\n",
    "If this does not correct the problem, re-install Anaconda.\n",
    "\n",
    "\n",
    "**IF YOU ARE STILL HAVING ISSUES ON THE INSTALL, REACH OUT TO THE COURSE STAFF FOR HELP!**"
   ]
  },
  {
   "cell_type": "markdown",
   "metadata": {},
   "source": [
    "## Python Libraries\n",
    "\n",
    "There are two main installing packages for Python, `conda` and `pip`. Pip is the Python Packaging Authority’s recommended tool for installing packages from the **Python Package Index (PyPI)**. `Conda` is a cross platform package and environment manager that installs and manages conda packages from the **Anaconda repository** and **Anaconda Cloud**. Conda does not assume any specific configuration in your computer and will install the Python interpreter along with the other Python packages, whereas `pip` assumes that you have installed the Python interpreter in your computer. Given the fact that most operating systems do include Python this is not a problem. \n",
    "\n",
    "If I could summarize their differences into a sentence it would be that conda has the ability to create **isolated environments** that can contain different versions of Python and/or the packages installed in them. This can be extremely useful when working with data science tools as different tools may contain conflicting requirements which could prevent them all being installed into a single environment. You can have environments with pip but would have to install a tool such as virtualenv or venv. You may use either, we recommend `conda` because in our experience it leads to fewer incompatibilities between packages and thus fewer broken environments.\n",
    "\n",
    "**Conclusion: Use Both.** Most often in our data science environments we want to combining pip with conda when one or more packages are only available to install via pip. Although thousands of packages are available in the Anaconda repository, including the most popular data science, machine learning, and AI frameworks but a lot more are available on PyPI. Even if you have your environment installed via `conda` you can use `pip` to install individual packages \n",
    "\n",
    "([source: anaconda site](https://www.anaconda.com/understanding-conda-and-pip/)) "
   ]
  },
  {
   "cell_type": "markdown",
   "metadata": {},
   "source": [
    "### What are environments and do I need them?\n",
    "\n",
    "Environments in Python are like sandboxes that have different versions of Python and/or packages installed in them. You can create, export, list, remove, and update environments. Switching or moving between environments is called activating the environment. When you are done with an environments you may deactivate it.\n",
    "\n",
    "For this class we want to have a bit more control on the packages that will be installed with the enviromnent so we will create an environment specifically for this course. \n",
    "\n",
    "#### Creating an environment\n",
    "\n",
    "You can create a new environment by running the following command in the terminal. \n",
    "\n",
    "`conda create -n cpsc4300 python=3.8`\n",
    "\n",
    "#### Activate the new environment: \n",
    "\n",
    "`source activate cpsc4300`\n",
    "\n",
    "You should see the name of the environment at the start of your command prompth in parenthesis.\n",
    "\n",
    "#### Verify that the new environment was installed correctly:\n",
    "\n",
    "`conda list`\n",
    "\n",
    "This will give you a list of the packages installed in this environment. \n",
    "    \n",
    "#### References\n",
    "    \n",
    "[Manage conda environments](https://docs.conda.io/projects/conda/en/latest/user-guide/tasks/manage-environments.html)"
   ]
  },
  {
   "cell_type": "markdown",
   "metadata": {},
   "source": [
    "### Starting the Jupyter Notebook\n",
    "\n",
    "Once all is installed, and your environment is active, go in the Terminal and type\n",
    "\n",
    "`jupyter notebook` \n",
    "\n",
    "to start the jupyter notebook server. This will spawn a process that will be running in the Terminal window until you are done working with the notebook. In that case press `control-C` to stop it.\n",
    "\n",
    "Starting the notebook will bring up a browser window with your file structure. \n",
    "\n",
    "**For more on using the Notebook see**: https://jupyter-notebook.readthedocs.io/en/latest/\n",
    "\n",
    "### Installing Modules\n",
    "\n",
    "We will use specific Python Modules in this course. You can find installation instructions for most modules online, but installing a new module will typically follow this pattern:\n",
    "\n",
    "`conda install <module_name>`\n",
    "\n",
    "Before installing the module, make sure the virtual environment in which you want to install it is active. For example, to install Numpy, you would do the following:\n",
    "\n",
    "```\n",
    "# Activate environment\n",
    "conda activate cpsc4300\n",
    "\n",
    "# Install numpy\n",
    "conda install numpy\n",
    "```"
   ]
  },
  {
   "cell_type": "markdown",
   "metadata": {},
   "source": [
    "### Testing latest libraries\n",
    "\n",
    "Run the cell below to print the version you have install for some key libraries we will use in this course. For reference, I included the version I have install on my computer. Packages are frequently updated, so you don't need to have the exact versions I have installed. However, the versions you're using should be close to, or newer than, mine."
   ]
  },
  {
   "cell_type": "code",
   "execution_count": 4,
   "metadata": {},
   "outputs": [
    {
     "name": "stdout",
     "output_type": "stream",
     "text": [
      "IPython version:      8.10.0 (mine is 7.24.1)\n",
      "Numpy version:        1.23.5 (mine is 1.21.0)\n",
      "SciPy version:        1.10.0 (mine is 1.7.0)\n",
      "Pandas version:        1.5.3 (mine is 1.2.5)\n",
      "Matplotlib version:     3.7.0 (mine is 3.4.2)\n",
      "Scikit-Learn version:  1.2.1 (mine is 0.24.2)\n",
      "requests version:     2.28.1 (mine is 2.25.1)\n",
      "Seaborn version: 0.12.2 (mine is 0.11.1)\n"
     ]
    }
   ],
   "source": [
    "#IPython is what you are using now to run the notebook\n",
    "import IPython\n",
    "print(\"IPython version:      %6.6s (mine is 7.24.1)\" % IPython.__version__)\n",
    "\n",
    "# Numpy is a library for working with Arrays\n",
    "import numpy as np\n",
    "print(\"Numpy version:        %6.6s (mine is 1.21.0)\" % np.__version__)\n",
    "\n",
    "# SciPy implements many different numerical algorithms\n",
    "import scipy as sp\n",
    "print(\"SciPy version:        %6.6s (mine is 1.7.0)\" % sp.__version__)\n",
    "\n",
    "# Pandas makes working with data tables easier\n",
    "import pandas as pd\n",
    "print(\"Pandas version:       %6.6s (mine is 1.2.5)\" % pd.__version__)\n",
    "\n",
    "# Module for plotting\n",
    "import matplotlib\n",
    "print(\"Matplotlib version:    %6.6s (mine is 3.4.2)\" % matplotlib.__version__)\n",
    "\n",
    "# SciKit Learn implements several Machine Learning algorithms\n",
    "import sklearn\n",
    "print(\"Scikit-Learn version: %6.6s (mine is 0.24.2)\" % sklearn.__version__)\n",
    "\n",
    "# Requests is a library for getting data from the Web\n",
    "import requests\n",
    "print(\"requests version:     %6.6s (mine is 2.25.1)\" % requests.__version__)\n",
    "\n",
    "import seaborn\n",
    "print(\"Seaborn version: %6.6s (mine is 0.11.1)\" % seaborn.__version__)"
   ]
  },
  {
   "cell_type": "markdown",
   "metadata": {},
   "source": [
    "## Kicking the tires"
   ]
  },
  {
   "cell_type": "markdown",
   "metadata": {},
   "source": [
    "Lets try some things, starting from very simple, to more complex."
   ]
  },
  {
   "cell_type": "markdown",
   "metadata": {},
   "source": [
    "### Hello World"
   ]
  },
  {
   "cell_type": "markdown",
   "metadata": {},
   "source": [
    "The following is the incantation we like to put at the beginning of every notebook. It loads most of the stuff we will regularly use."
   ]
  },
  {
   "cell_type": "code",
   "execution_count": 5,
   "metadata": {},
   "outputs": [],
   "source": [
    "# The %... is an iPython thing, and is not part of the Python language.\n",
    "# In this case we're just telling the plotting library to draw things on\n",
    "# the notebook, instead of on a separate window.\n",
    "%matplotlib inline \n",
    "#this line above prepares the jupyter notebook for working with matplotlib\n",
    "\n",
    "# See all the \"as ...\" contructs? They're just aliasing the package names.\n",
    "# That way we can call methods like plt.plot() instead of matplotlib.pyplot.plot().\n",
    "# notice we use short aliases here, and these are conventional in the python community\n",
    "\n",
    "import numpy as np              # imports a fast numerical programming library\n",
    "import scipy as sp              # imports stats functions, amongst other things\n",
    "import matplotlib as mpl        # this actually imports matplotlib\n",
    "import matplotlib.cm as cm      # allows us easy access to colormaps\n",
    "import matplotlib.pyplot as plt # sets up plotting under plt\n",
    "import pandas as pd             # lets us handle data as dataframes\n",
    "\n",
    "import seaborn as sns # gives us more plotting options\n",
    "sns.set()             # sets up styles"
   ]
  },
  {
   "cell_type": "markdown",
   "metadata": {},
   "source": [
    "### Hello matplotlib"
   ]
  },
  {
   "cell_type": "markdown",
   "metadata": {},
   "source": [
    "The notebook integrates nicely with Matplotlib, the primary plotting package for python. This should embed a figure of a sine wave:"
   ]
  },
  {
   "cell_type": "code",
   "execution_count": 6,
   "metadata": {},
   "outputs": [
    {
     "data": {
      "text/plain": [
       "Text(0.5, 1.0, 'Sine Waves')"
      ]
     },
     "execution_count": 6,
     "metadata": {},
     "output_type": "execute_result"
    },
    {
     "data": {
      "image/png": "[encoded data removed]",
      "text/plain": [
       "<Figure size 640x480 with 1 Axes>"
      ]
     },
     "metadata": {},
     "output_type": "display_data"
    }
   ],
   "source": [
    "x = np.linspace(0, 10, 30)  # array of 30 points from 0 to 10\n",
    "y = np.sin(x)\n",
    "z = y + np.random.normal(size=30) * .2\n",
    "\n",
    "plt.plot(x, y, 'o-', label='A sine wave')\n",
    "plt.plot(x, z, '-', label='Noisy sine')\n",
    "plt.legend(loc = 'best')\n",
    "plt.xlabel(\"X axis\")\n",
    "plt.ylabel(\"Y axis\")\n",
    "plt.title(\"Sine Waves\")"
   ]
  },
  {
   "cell_type": "markdown",
   "metadata": {},
   "source": [
    "### Hello Numpy"
   ]
  },
  {
   "cell_type": "markdown",
   "metadata": {},
   "source": [
    "The Numpy array processing library is the basis of nearly all numerical computing in Python. Here's a 30 second crash course. For more details, consult the [Numpy Documentation](https://numpy.org/doc/)."
   ]
  },
  {
   "cell_type": "code",
   "execution_count": 7,
   "metadata": {},
   "outputs": [
    {
     "name": "stdout",
     "output_type": "stream",
     "text": [
      "Make a 3 row x 4 column array of random numbers\n",
      "[[0.80911661 0.46471268 0.86833958 0.93886979]\n",
      " [0.13333768 0.59330301 0.82775239 0.02713197]\n",
      " [0.71288722 0.44662609 0.96105311 0.20987586]] \n",
      "\n",
      "Add 1 to every element\n",
      "[[1.80911661 1.46471268 1.86833958 1.93886979]\n",
      " [1.13333768 1.59330301 1.82775239 1.02713197]\n",
      " [1.71288722 1.44662609 1.96105311 1.20987586]] \n",
      "\n",
      "Get the element at row 1, column 2\n",
      "1.8277523854266455\n",
      "Get the first row\n",
      "[1.80911661 1.46471268 1.86833958 1.93886979]\n",
      "\n",
      "Last 2 items in the first row\n",
      "[1.86833958 1.93886979]\n",
      "\n",
      "Get every 2nd item in the first row\n",
      "[1.80911661 1.86833958]\n"
     ]
    }
   ],
   "source": [
    "print(\"Make a 3 row x 4 column array of random numbers\")\n",
    "x = np.random.random((3, 4))\n",
    "print(x,\"\\n\")\n",
    "\n",
    "\n",
    "print(\"Add 1 to every element\")\n",
    "x = x + 1\n",
    "print(x,\"\\n\")\n",
    "\n",
    "print(\"Get the element at row 1, column 2\")\n",
    "print(x[1, 2])\n",
    "\n",
    "# The colon syntax is called \"slicing\" the array. \n",
    "print(\"Get the first row\")\n",
    "print(x[0, :])\n",
    "\n",
    "print(\"\\nLast 2 items in the first row\")\n",
    "print(x[0, -2:])\n",
    "\n",
    "print(\"\\nGet every 2nd item in the first row\")\n",
    "print(x[0, ::2])"
   ]
  },
  {
   "cell_type": "markdown",
   "metadata": {},
   "source": [
    "Print the maximum, minimum, and mean of the array. This does **not** require writing a loop. In the code cell below, type `x.m<TAB>`, to find built-in operations for common array statistics like this"
   ]
  },
  {
   "cell_type": "code",
   "execution_count": 8,
   "metadata": {},
   "outputs": [
    {
     "name": "stdout",
     "output_type": "stream",
     "text": [
      "Max is   1.9610531101941224\n",
      "Min is   1.0271319709153026\n",
      "Mean is  1.5827504984263383\n"
     ]
    }
   ],
   "source": [
    "print(\"Max is  \", x.max())\n",
    "print(\"Min is  \", x.min())\n",
    "print(\"Mean is \", x.mean())"
   ]
  },
  {
   "cell_type": "markdown",
   "metadata": {},
   "source": [
    "Call the `x.max` function again, but use the `axis` keyword to print the maximum of each row in x."
   ]
  },
  {
   "cell_type": "code",
   "execution_count": 9,
   "metadata": {},
   "outputs": [
    {
     "name": "stdout",
     "output_type": "stream",
     "text": [
      "[1.93886979 1.82775239 1.96105311]\n"
     ]
    }
   ],
   "source": [
    "print(x.max(axis=1))"
   ]
  },
  {
   "cell_type": "markdown",
   "metadata": {},
   "source": [
    "Here's a way to quickly simulate 500 coin \"fair\" coin tosses (where the probabily of getting Heads is 50%, or 0.5)"
   ]
  },
  {
   "cell_type": "code",
   "execution_count": 10,
   "metadata": {},
   "outputs": [
    {
     "name": "stdout",
     "output_type": "stream",
     "text": [
      "number of heads: 245\n"
     ]
    }
   ],
   "source": [
    "x = np.random.binomial(500, .5)\n",
    "print(\"number of heads:\", x)"
   ]
  },
  {
   "cell_type": "markdown",
   "metadata": {},
   "source": [
    "Repeat this simulation 500 times, and use the [plt.hist() function](http://matplotlib.org/api/pyplot_api.html#matplotlib.pyplot.hist) to plot a histogram of the number of Heads (1s) in each simulation"
   ]
  },
  {
   "cell_type": "code",
   "execution_count": 11,
   "metadata": {},
   "outputs": [
    {
     "data": {
      "text/plain": [
       "(array([  6.,  11.,  33.,  66., 110., 108.,  92.,  45.,  20.,   9.]),\n",
       " array([216. , 222.3, 228.6, 234.9, 241.2, 247.5, 253.8, 260.1, 266.4,\n",
       "        272.7, 279. ]),\n",
       " <BarContainer object of 10 artists>)"
      ]
     },
     "execution_count": 11,
     "metadata": {},
     "output_type": "execute_result"
    },
    {
     "data": {
      "image/png": "[encoded data removed]",
      "text/plain": [
       "<Figure size 640x480 with 1 Axes>"
      ]
     },
     "metadata": {},
     "output_type": "display_data"
    }
   ],
   "source": [
    "# 3 ways to run the simulations\n",
    "\n",
    "# loop\n",
    "heads = []\n",
    "for i in range(500):\n",
    "    heads.append(np.random.binomial(500, .5))\n",
    "\n",
    "# \"list comprehension\"\n",
    "heads = [np.random.binomial(500, .5) for i in range(500)]\n",
    "\n",
    "# pure numpy, preferred\n",
    "heads = np.random.binomial(500, .5, size=500)\n",
    "\n",
    "plt.hist(heads, bins=10)"
   ]
  },
  {
   "cell_type": "code",
   "execution_count": null,
   "metadata": {},
   "outputs": [],
   "source": []
  }
 ],
 "metadata": {
  "anaconda-cloud": {},
  "kernelspec": {
   "display_name": "Python 3 (ipykernel)",
   "language": "python",
   "name": "python3"
  },
  "language_info": {
   "codemirror_mode": {
    "name": "ipython",
    "version": 3
   },
   "file_extension": ".py",
   "mimetype": "text/x-python",
   "name": "python",
   "nbconvert_exporter": "python",
   "pygments_lexer": "ipython3",
   "version": "3.10.9"
  }
 },
 "nbformat": 4,
 "nbformat_minor": 4
}
